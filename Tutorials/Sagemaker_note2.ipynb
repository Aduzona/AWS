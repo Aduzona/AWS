{
 "cells": [
  {
   "cell_type": "code",
   "execution_count": 1,
   "id": "7d055cb8",
   "metadata": {},
   "outputs": [],
   "source": [
    "# import libraries\n",
    "import boto3, re, sys, math, json, os, sagemaker, urllib.request\n",
    "from sagemaker import get_execution_role\n",
    "import numpy as np\n",
    "import pandas as pd\n",
    "import matplotlib.pyplot as plt\n",
    "from IPython.display import Image\n",
    "from IPython.display import display\n",
    "from time import gmtime, strftime\n",
    "from sagemaker.predictor import csv_serializer\n",
    "\n",
    "# Define IAM role\n",
    "role = get_execution_role()\n",
    "prefix = 'xgboost-as-a-built-in-algo'\n",
    "my_region = boto3.session.Session().region_name # set the region of the instance\n",
    "\n",
    "# this line automatically looks for the XGBoost image URI and builds an XGBoost container.\n",
    "#xgboost_container = sagemaker.image_uris.retrieve(\"xgboost\", my_region, \"latest\")\n",
    "\n",
    "#print(\"Success - the MySageMakerInstance is in the \" + my_region + \" region. You will use the \" + xgboost_container + \" container for your SageMaker endpoint.\")"
   ]
  },
  {
   "cell_type": "code",
   "execution_count": 3,
   "id": "61c2b103",
   "metadata": {},
   "outputs": [
    {
     "name": "stdout",
     "output_type": "stream",
     "text": [
      "S3 bucket created successfully\n"
     ]
    }
   ],
   "source": [
    "bucket_name = 'financepriceyahoo2'\n",
    "s3 = boto3.resource('s3')\n",
    "try:\n",
    "    if  my_region == 'us-east-1':\n",
    "      s3.create_bucket(Bucket=bucket_name)\n",
    "    else: \n",
    "      s3.create_bucket(Bucket=bucket_name, CreateBucketConfiguration={ 'LocationConstraint': my_region })\n",
    "    print('S3 bucket created successfully')\n",
    "except Exception as e:\n",
    "    print('S3 error: ',e)"
   ]
  },
  {
   "cell_type": "markdown",
   "id": "ef281c11",
   "metadata": {},
   "source": [
    "## 2. Create train and validation csv"
   ]
  },
  {
   "cell_type": "code",
   "execution_count": 4,
   "id": "426b18f5",
   "metadata": {},
   "outputs": [
    {
     "name": "stdout",
     "output_type": "stream",
     "text": [
      "Collecting yfinance\n",
      "  Downloading yfinance-0.1.70-py2.py3-none-any.whl (26 kB)\n",
      "Requirement already satisfied: lxml>=4.5.1 in /home/ec2-user/anaconda3/envs/python3/lib/python3.6/site-packages (from yfinance) (4.6.4)\n",
      "Collecting multitasking>=0.0.7\n",
      "  Downloading multitasking-0.0.10.tar.gz (8.2 kB)\n",
      "  Preparing metadata (setup.py) ... \u001b[?25ldone\n",
      "\u001b[?25hRequirement already satisfied: numpy>=1.15 in /home/ec2-user/anaconda3/envs/python3/lib/python3.6/site-packages (from yfinance) (1.19.5)\n",
      "Requirement already satisfied: requests>=2.26 in /home/ec2-user/anaconda3/envs/python3/lib/python3.6/site-packages (from yfinance) (2.26.0)\n",
      "Requirement already satisfied: pandas>=0.24.0 in /home/ec2-user/anaconda3/envs/python3/lib/python3.6/site-packages (from yfinance) (1.1.5)\n",
      "Requirement already satisfied: python-dateutil>=2.7.3 in /home/ec2-user/anaconda3/envs/python3/lib/python3.6/site-packages (from pandas>=0.24.0->yfinance) (2.8.1)\n",
      "Requirement already satisfied: pytz>=2017.2 in /home/ec2-user/anaconda3/envs/python3/lib/python3.6/site-packages (from pandas>=0.24.0->yfinance) (2021.1)\n",
      "Requirement already satisfied: idna<4,>=2.5 in /home/ec2-user/anaconda3/envs/python3/lib/python3.6/site-packages (from requests>=2.26->yfinance) (3.1)\n",
      "Requirement already satisfied: charset-normalizer~=2.0.0 in /home/ec2-user/anaconda3/envs/python3/lib/python3.6/site-packages (from requests>=2.26->yfinance) (2.0.9)\n",
      "Requirement already satisfied: urllib3<1.27,>=1.21.1 in /home/ec2-user/anaconda3/envs/python3/lib/python3.6/site-packages (from requests>=2.26->yfinance) (1.26.7)\n",
      "Requirement already satisfied: certifi>=2017.4.17 in /home/ec2-user/anaconda3/envs/python3/lib/python3.6/site-packages (from requests>=2.26->yfinance) (2021.5.30)\n",
      "Requirement already satisfied: six>=1.5 in /home/ec2-user/anaconda3/envs/python3/lib/python3.6/site-packages (from python-dateutil>=2.7.3->pandas>=0.24.0->yfinance) (1.15.0)\n",
      "Building wheels for collected packages: multitasking\n",
      "  Building wheel for multitasking (setup.py) ... \u001b[?25ldone\n",
      "\u001b[?25h  Created wheel for multitasking: filename=multitasking-0.0.10-py3-none-any.whl size=8488 sha256=f34fd08b2ec455e73f80252994b14abaaab48c791e44707369b580ad345ab132\n",
      "  Stored in directory: /home/ec2-user/.cache/pip/wheels/15/e6/fa/f4bf8d84e804547b3c1b1d4b09a671768502b32ca33ec60651\n",
      "Successfully built multitasking\n",
      "Installing collected packages: multitasking, yfinance\n",
      "Successfully installed multitasking-0.0.10 yfinance-0.1.70\n",
      "[*********************100%***********************]  1 of 1 completed\n"
     ]
    },
    {
     "data": {
      "text/html": [
       "<div>\n",
       "<style scoped>\n",
       "    .dataframe tbody tr th:only-of-type {\n",
       "        vertical-align: middle;\n",
       "    }\n",
       "\n",
       "    .dataframe tbody tr th {\n",
       "        vertical-align: top;\n",
       "    }\n",
       "\n",
       "    .dataframe thead th {\n",
       "        text-align: right;\n",
       "    }\n",
       "</style>\n",
       "<table border=\"1\" class=\"dataframe\">\n",
       "  <thead>\n",
       "    <tr style=\"text-align: right;\">\n",
       "      <th></th>\n",
       "      <th>Date</th>\n",
       "      <th>Open</th>\n",
       "      <th>High</th>\n",
       "      <th>Low</th>\n",
       "      <th>Close</th>\n",
       "      <th>Adj Close</th>\n",
       "      <th>Volume</th>\n",
       "    </tr>\n",
       "  </thead>\n",
       "  <tbody>\n",
       "    <tr>\n",
       "      <th>0</th>\n",
       "      <td>2019-01-02</td>\n",
       "      <td>38.722500</td>\n",
       "      <td>39.712502</td>\n",
       "      <td>38.557499</td>\n",
       "      <td>39.480000</td>\n",
       "      <td>38.277523</td>\n",
       "      <td>148158800</td>\n",
       "    </tr>\n",
       "    <tr>\n",
       "      <th>1</th>\n",
       "      <td>2019-01-03</td>\n",
       "      <td>35.994999</td>\n",
       "      <td>36.430000</td>\n",
       "      <td>35.500000</td>\n",
       "      <td>35.547501</td>\n",
       "      <td>34.464798</td>\n",
       "      <td>365248800</td>\n",
       "    </tr>\n",
       "    <tr>\n",
       "      <th>2</th>\n",
       "      <td>2019-01-04</td>\n",
       "      <td>36.132500</td>\n",
       "      <td>37.137501</td>\n",
       "      <td>35.950001</td>\n",
       "      <td>37.064999</td>\n",
       "      <td>35.936085</td>\n",
       "      <td>234428400</td>\n",
       "    </tr>\n",
       "    <tr>\n",
       "      <th>3</th>\n",
       "      <td>2019-01-07</td>\n",
       "      <td>37.174999</td>\n",
       "      <td>37.207500</td>\n",
       "      <td>36.474998</td>\n",
       "      <td>36.982498</td>\n",
       "      <td>35.856091</td>\n",
       "      <td>219111200</td>\n",
       "    </tr>\n",
       "    <tr>\n",
       "      <th>4</th>\n",
       "      <td>2019-01-08</td>\n",
       "      <td>37.389999</td>\n",
       "      <td>37.955002</td>\n",
       "      <td>37.130001</td>\n",
       "      <td>37.687500</td>\n",
       "      <td>36.539616</td>\n",
       "      <td>164101200</td>\n",
       "    </tr>\n",
       "    <tr>\n",
       "      <th>...</th>\n",
       "      <td>...</td>\n",
       "      <td>...</td>\n",
       "      <td>...</td>\n",
       "      <td>...</td>\n",
       "      <td>...</td>\n",
       "      <td>...</td>\n",
       "      <td>...</td>\n",
       "    </tr>\n",
       "    <tr>\n",
       "      <th>500</th>\n",
       "      <td>2020-12-24</td>\n",
       "      <td>131.320007</td>\n",
       "      <td>133.460007</td>\n",
       "      <td>131.100006</td>\n",
       "      <td>131.970001</td>\n",
       "      <td>130.994522</td>\n",
       "      <td>54930100</td>\n",
       "    </tr>\n",
       "    <tr>\n",
       "      <th>501</th>\n",
       "      <td>2020-12-28</td>\n",
       "      <td>133.990005</td>\n",
       "      <td>137.339996</td>\n",
       "      <td>133.509995</td>\n",
       "      <td>136.690002</td>\n",
       "      <td>135.679642</td>\n",
       "      <td>124486200</td>\n",
       "    </tr>\n",
       "    <tr>\n",
       "      <th>502</th>\n",
       "      <td>2020-12-29</td>\n",
       "      <td>138.050003</td>\n",
       "      <td>138.789993</td>\n",
       "      <td>134.339996</td>\n",
       "      <td>134.869995</td>\n",
       "      <td>133.873077</td>\n",
       "      <td>121047300</td>\n",
       "    </tr>\n",
       "    <tr>\n",
       "      <th>503</th>\n",
       "      <td>2020-12-30</td>\n",
       "      <td>135.580002</td>\n",
       "      <td>135.990005</td>\n",
       "      <td>133.399994</td>\n",
       "      <td>133.720001</td>\n",
       "      <td>132.731598</td>\n",
       "      <td>96452100</td>\n",
       "    </tr>\n",
       "    <tr>\n",
       "      <th>504</th>\n",
       "      <td>2020-12-31</td>\n",
       "      <td>134.080002</td>\n",
       "      <td>134.740005</td>\n",
       "      <td>131.720001</td>\n",
       "      <td>132.690002</td>\n",
       "      <td>131.709213</td>\n",
       "      <td>99116600</td>\n",
       "    </tr>\n",
       "  </tbody>\n",
       "</table>\n",
       "<p>505 rows × 7 columns</p>\n",
       "</div>"
      ],
      "text/plain": [
       "          Date        Open        High         Low       Close   Adj Close  \\\n",
       "0   2019-01-02   38.722500   39.712502   38.557499   39.480000   38.277523   \n",
       "1   2019-01-03   35.994999   36.430000   35.500000   35.547501   34.464798   \n",
       "2   2019-01-04   36.132500   37.137501   35.950001   37.064999   35.936085   \n",
       "3   2019-01-07   37.174999   37.207500   36.474998   36.982498   35.856091   \n",
       "4   2019-01-08   37.389999   37.955002   37.130001   37.687500   36.539616   \n",
       "..         ...         ...         ...         ...         ...         ...   \n",
       "500 2020-12-24  131.320007  133.460007  131.100006  131.970001  130.994522   \n",
       "501 2020-12-28  133.990005  137.339996  133.509995  136.690002  135.679642   \n",
       "502 2020-12-29  138.050003  138.789993  134.339996  134.869995  133.873077   \n",
       "503 2020-12-30  135.580002  135.990005  133.399994  133.720001  132.731598   \n",
       "504 2020-12-31  134.080002  134.740005  131.720001  132.690002  131.709213   \n",
       "\n",
       "        Volume  \n",
       "0    148158800  \n",
       "1    365248800  \n",
       "2    234428400  \n",
       "3    219111200  \n",
       "4    164101200  \n",
       "..         ...  \n",
       "500   54930100  \n",
       "501  124486200  \n",
       "502  121047300  \n",
       "503   96452100  \n",
       "504   99116600  \n",
       "\n",
       "[505 rows x 7 columns]"
      ]
     },
     "execution_count": 4,
     "metadata": {},
     "output_type": "execute_result"
    }
   ],
   "source": [
    "!pip install yfinance\n",
    "import pandas as pd\n",
    "from datetime import datetime\n",
    "import yfinance as yf\n",
    "\n",
    "#initialize parameters\n",
    "start_date =datetime(2019,1,1)\n",
    "end_date =datetime(2021,1,1)\n",
    "\n",
    "# get the data\n",
    "df_data =yf.download('AAPL',start=start_date,end=end_date)\n",
    "\n",
    "df_data.reset_index(inplace=True)\n",
    "\n",
    "df_data"
   ]
  },
  {
   "cell_type": "markdown",
   "id": "8914594d",
   "metadata": {},
   "source": [
    "### Extract,Load and Transform"
   ]
  },
  {
   "cell_type": "code",
   "execution_count": 5,
   "id": "0a8328d8",
   "metadata": {},
   "outputs": [
    {
     "name": "stderr",
     "output_type": "stream",
     "text": [
      "/home/ec2-user/anaconda3/envs/python3/lib/python3.6/site-packages/ipykernel/__main__.py:7: SettingWithCopyWarning: \n",
      "A value is trying to be set on a copy of a slice from a DataFrame.\n",
      "Try using .loc[row_indexer,col_indexer] = value instead\n",
      "\n",
      "See the caveats in the documentation: https://pandas.pydata.org/pandas-docs/stable/user_guide/indexing.html#returning-a-view-versus-a-copy\n"
     ]
    },
    {
     "data": {
      "text/html": [
       "<div>\n",
       "<style scoped>\n",
       "    .dataframe tbody tr th:only-of-type {\n",
       "        vertical-align: middle;\n",
       "    }\n",
       "\n",
       "    .dataframe tbody tr th {\n",
       "        vertical-align: top;\n",
       "    }\n",
       "\n",
       "    .dataframe thead th {\n",
       "        text-align: right;\n",
       "    }\n",
       "</style>\n",
       "<table border=\"1\" class=\"dataframe\">\n",
       "  <thead>\n",
       "    <tr style=\"text-align: right;\">\n",
       "      <th></th>\n",
       "      <th>Target</th>\n",
       "      <th>Open</th>\n",
       "      <th>High</th>\n",
       "      <th>Low</th>\n",
       "      <th>Close</th>\n",
       "      <th>Volume</th>\n",
       "    </tr>\n",
       "  </thead>\n",
       "  <tbody>\n",
       "    <tr>\n",
       "      <th>0</th>\n",
       "      <td>35.994999</td>\n",
       "      <td>38.722500</td>\n",
       "      <td>39.712502</td>\n",
       "      <td>38.557499</td>\n",
       "      <td>39.480000</td>\n",
       "      <td>148158800</td>\n",
       "    </tr>\n",
       "    <tr>\n",
       "      <th>1</th>\n",
       "      <td>36.132500</td>\n",
       "      <td>35.994999</td>\n",
       "      <td>36.430000</td>\n",
       "      <td>35.500000</td>\n",
       "      <td>35.547501</td>\n",
       "      <td>365248800</td>\n",
       "    </tr>\n",
       "    <tr>\n",
       "      <th>2</th>\n",
       "      <td>37.174999</td>\n",
       "      <td>36.132500</td>\n",
       "      <td>37.137501</td>\n",
       "      <td>35.950001</td>\n",
       "      <td>37.064999</td>\n",
       "      <td>234428400</td>\n",
       "    </tr>\n",
       "    <tr>\n",
       "      <th>3</th>\n",
       "      <td>37.389999</td>\n",
       "      <td>37.174999</td>\n",
       "      <td>37.207500</td>\n",
       "      <td>36.474998</td>\n",
       "      <td>36.982498</td>\n",
       "      <td>219111200</td>\n",
       "    </tr>\n",
       "    <tr>\n",
       "      <th>4</th>\n",
       "      <td>37.822498</td>\n",
       "      <td>37.389999</td>\n",
       "      <td>37.955002</td>\n",
       "      <td>37.130001</td>\n",
       "      <td>37.687500</td>\n",
       "      <td>164101200</td>\n",
       "    </tr>\n",
       "  </tbody>\n",
       "</table>\n",
       "</div>"
      ],
      "text/plain": [
       "      Target       Open       High        Low      Close     Volume\n",
       "0  35.994999  38.722500  39.712502  38.557499  39.480000  148158800\n",
       "1  36.132500  35.994999  36.430000  35.500000  35.547501  365248800\n",
       "2  37.174999  36.132500  37.137501  35.950001  37.064999  234428400\n",
       "3  37.389999  37.174999  37.207500  36.474998  36.982498  219111200\n",
       "4  37.822498  37.389999  37.955002  37.130001  37.687500  164101200"
      ]
     },
     "execution_count": 5,
     "metadata": {},
     "output_type": "execute_result"
    }
   ],
   "source": [
    "df_data.drop(axis=1,columns=['Adj Close','Date'],inplace=True)\n",
    "# Takeout the last row\n",
    "df_data_features=df_data.iloc[:-1,:]\n",
    "# get the first column and skip first row, rename Targets\n",
    "df_data_targets = df_data.iloc[1:,0].rename(\"Targets\")\n",
    "# Combine everything together to create our final data output.\n",
    "df_data_features['Target']=list(df_data_targets)\n",
    "\n",
    "first_column = df_data_features.pop('Target')\n",
    "df_data_features.insert(0, 'Target',first_column)\n",
    "\n",
    "df_data_final=df_data_features\n",
    "df_data_final.head()"
   ]
  },
  {
   "cell_type": "code",
   "execution_count": 6,
   "id": "3247c460",
   "metadata": {},
   "outputs": [
    {
     "name": "stdout",
     "output_type": "stream",
     "text": [
      "(403, 6) (101, 6)\n"
     ]
    }
   ],
   "source": [
    "#random sample\n",
    "df_randomized = df_data_final.sample(frac=1,random_state=123)\n",
    "train_data,test_data=np.split(df_randomized,[int(0.8*len(df_randomized))])\n",
    "\n",
    "print(train_data.shape,test_data.shape)"
   ]
  },
  {
   "cell_type": "markdown",
   "id": "6c8624d7",
   "metadata": {},
   "source": [
    "### Set a path and upload dataset to S3 bucket"
   ]
  },
  {
   "cell_type": "code",
   "execution_count": 8,
   "id": "c9490a8f",
   "metadata": {},
   "outputs": [],
   "source": [
    "#train_csv_path ='s3://{}//{}/{}/{}'.format(bucket_name,prefix,'train','train.csv')\n",
    "#test_csv_path ='s3://{}//{}/{}/{}'.format(bucket_name,prefix,'test','test.csv')\n",
    "#Upload the files over to the buckets\n",
    "#train_data.to_csv(train_csv_path,index=False,header=False)\n",
    "#test_data.to_csv(test_csv_path,index=False,header=False)\n",
    "train_data.to_csv('train.csv', index=False, header=False)\n",
    "boto3.Session().resource('s3').Bucket(bucket_name).Object(os.path.join(prefix, 'train/train.csv')).upload_file('train.csv')\n",
    "train_input = sagemaker.inputs.TrainingInput(s3_data='s3://{}/{}/train'.format(bucket_name, prefix), content_type='csv')"
   ]
  },
  {
   "cell_type": "code",
   "execution_count": 9,
   "id": "41fd7f00",
   "metadata": {},
   "outputs": [],
   "source": [
    "test_data.to_csv('test.csv', index=False, header=False)\n",
    "boto3.Session().resource('s3').Bucket(bucket_name).Object(os.path.join(prefix, 'test/test.csv')).upload_file('test.csv')\n",
    "test_input = sagemaker.inputs.TrainingInput(s3_data='s3://{}/{}/test'.format(bucket_name, prefix), content_type='csv')"
   ]
  },
  {
   "cell_type": "markdown",
   "id": "cbf4a22b",
   "metadata": {},
   "source": [
    "## 3. Build XGBoost\n",
    "\n",
    "we will use XGBoost as built in algorithm"
   ]
  },
  {
   "cell_type": "code",
   "execution_count": 10,
   "id": "fa3b1cd0",
   "metadata": {},
   "outputs": [
    {
     "name": "stdout",
     "output_type": "stream",
     "text": [
      "Success - the MySageMakerInstance is in the us-west-2 region. You will use the 433757028032.dkr.ecr.us-west-2.amazonaws.com/xgboost:latest container for your SageMaker endpoint.\n"
     ]
    }
   ],
   "source": [
    "# this line automatically looks for the XGBoost image URI and builds an XGBoost container.\n",
    "# specify the repo_version depending on your preference.\n",
    "#find out the image that is suitable for your own application, I am using 1.2-2\n",
    "xgboost_container = sagemaker.image_uris.retrieve(\"xgboost\", my_region, \"latest\")\n",
    "\n",
    "print(\"Success - the MySageMakerInstance is in the \" + my_region + \" region. You will use the \" + xgboost_container + \" container for your SageMaker endpoint.\")"
   ]
  },
  {
   "cell_type": "markdown",
   "id": "a63be4b1",
   "metadata": {},
   "source": [
    "**Initialize hyperparameters**\n",
    "\n",
    "There are 2 types of parameters, booter parameters ans Learning Task Parameters"
   ]
  },
  {
   "cell_type": "code",
   "execution_count": 16,
   "id": "860bbabe",
   "metadata": {},
   "outputs": [],
   "source": [
    "# initialize hyperparameters\n",
    "hyperparameters = {\n",
    "        \"max_depth\":\"5\",\n",
    "        \"eta\":\"0.2\",\n",
    "        \"gamma\":\"4\",\n",
    "        \"min_child_weight\":\"6\",\n",
    "        \"subsample\":\"0.7\",\n",
    "        \"objective\":\"reg:linear\",\n",
    "        \"early_stopping_rounds\":10,\n",
    "        \"num_round\":1000}"
   ]
  },
  {
   "cell_type": "markdown",
   "id": "3d9eff6d",
   "metadata": {},
   "source": [
    "Set an output path where the trained model will be saved"
   ]
  },
  {
   "cell_type": "code",
   "execution_count": 12,
   "id": "85903285",
   "metadata": {},
   "outputs": [
    {
     "name": "stdout",
     "output_type": "stream",
     "text": [
      "s3://financepriceyahoo2/xgboost-as-a-built-in-algo/output/output\n"
     ]
    }
   ],
   "source": [
    "# first {} is bucket name\n",
    "# second {} is prefix\n",
    "# output folder\n",
    "output_path = 's3://{}/{}/{}/output'.format(bucket_name, prefix, 'output')\n",
    "\n",
    "print(output_path)"
   ]
  },
  {
   "cell_type": "markdown",
   "id": "f4821bf6",
   "metadata": {},
   "source": [
    "**Construct a Sagemeker estimator that calls the xgboost-container**"
   ]
  },
  {
   "cell_type": "code",
   "execution_count": 17,
   "id": "05bad9b6",
   "metadata": {},
   "outputs": [],
   "source": [
    "sess = sagemaker.Session()\n",
    "# construct a SageMaker estimator that calls the xgboost-container\n",
    "estimator = sagemaker.estimator.Estimator(image_uri=xgboost_container, \n",
    "                                          hyperparameters=hyperparameters,\n",
    "                                          role=role,\n",
    "                                          instance_count=1, \n",
    "                                          instance_type='ml.m4.xlarge', \n",
    "                                          volume_size=5, # 5 GB \n",
    "                                          output_path=output_path,\n",
    "                                          sagemaker_session=sess,\n",
    "                                          use_spot_instances=True,# Shared instances amount of time we can wait for instance to be available\n",
    "                                          max_run=300,\n",
    "                                          max_wait=600)"
   ]
  },
  {
   "cell_type": "markdown",
   "id": "6320ccd0",
   "metadata": {},
   "source": [
    "### Execute the XGBoost training job"
   ]
  },
  {
   "cell_type": "code",
   "execution_count": 18,
   "id": "61024905",
   "metadata": {},
   "outputs": [
    {
     "name": "stdout",
     "output_type": "stream",
     "text": [
      "2022-02-24 15:56:34 Starting - Starting the training job...\n",
      "2022-02-24 15:56:57 Starting - Launching requested ML instancesProfilerReport-1645718193: InProgress\n",
      ".........\n",
      "2022-02-24 15:58:17 Starting - Preparing the instances for training.........\n",
      "2022-02-24 16:00:00 Downloading - Downloading input data...\n",
      "2022-02-24 16:00:35 Training - Training image download completed. Training in progress..\u001b[34mArguments: train\u001b[0m\n",
      "\u001b[34m[2022-02-24:16:00:36:INFO] Running standalone xgboost training.\u001b[0m\n",
      "\u001b[34m[2022-02-24:16:00:36:INFO] File size need to be processed in the node: 0.05mb. Available memory size in the node: 8340.5mb\u001b[0m\n",
      "\u001b[34m[2022-02-24:16:00:36:INFO] Determined delimiter of CSV input is ','\u001b[0m\n",
      "\u001b[34m[16:00:36] S3DistributionType set as FullyReplicated\u001b[0m\n",
      "\u001b[34m[16:00:36] 403x5 matrix with 2015 entries loaded from /opt/ml/input/data/train?format=csv&label_column=0&delimiter=,\u001b[0m\n",
      "\u001b[34m[2022-02-24:16:00:36:INFO] Determined delimiter of CSV input is ','\u001b[0m\n",
      "\u001b[34m[16:00:36] S3DistributionType set as FullyReplicated\u001b[0m\n",
      "\u001b[34m[16:00:36] 101x5 matrix with 505 entries loaded from /opt/ml/input/data/validation?format=csv&label_column=0&delimiter=,\u001b[0m\n",
      "\u001b[34m[16:00:36] src/tree/updater_prune.cc:74: tree pruning end, 1 roots, 6 extra nodes, 0 pruned nodes, max_depth=3\u001b[0m\n",
      "\u001b[34m[0]#011train-rmse:63.0867#011validation-rmse:62.6122\u001b[0m\n",
      "\u001b[34mMultiple eval metrics have been passed: 'validation-rmse' will be used for early stopping.\u001b[0m\n",
      "\u001b[34mWill train until validation-rmse hasn't improved in 10 rounds.\u001b[0m\n",
      "\u001b[34m[16:00:36] src/tree/updater_prune.cc:74: tree pruning end, 1 roots, 6 extra nodes, 0 pruned nodes, max_depth=3\u001b[0m\n",
      "\u001b[34m[1]#011train-rmse:50.7873#011validation-rmse:50.5726\u001b[0m\n",
      "\u001b[34m[16:00:36] src/tree/updater_prune.cc:74: tree pruning end, 1 roots, 8 extra nodes, 0 pruned nodes, max_depth=3\u001b[0m\n",
      "\u001b[34m[2]#011train-rmse:40.9111#011validation-rmse:40.9012\u001b[0m\n",
      "\u001b[34m[16:00:36] src/tree/updater_prune.cc:74: tree pruning end, 1 roots, 8 extra nodes, 0 pruned nodes, max_depth=3\u001b[0m\n",
      "\u001b[34m[3]#011train-rmse:32.9426#011validation-rmse:33.1644\u001b[0m\n",
      "\u001b[34m[16:00:36] src/tree/updater_prune.cc:74: tree pruning end, 1 roots, 6 extra nodes, 0 pruned nodes, max_depth=2\u001b[0m\n",
      "\u001b[34m[16:00:36] src/tree/updater_prune.cc:74: tree pruning end, 1 roots, 8 extra nodes, 0 pruned nodes, max_depth=3\u001b[0m\n",
      "\u001b[34m[16:00:36] src/tree/updater_prune.cc:74: tree pruning end, 1 roots, 8 extra nodes, 0 pruned nodes, max_depth=3\u001b[0m\n",
      "\u001b[34m[16:00:36] src/tree/updater_prune.cc:74: tree pruning end, 1 roots, 8 extra nodes, 0 pruned nodes, max_depth=3\u001b[0m\n",
      "\u001b[34m[16:00:36] src/tree/updater_prune.cc:74: tree pruning end, 1 roots, 8 extra nodes, 0 pruned nodes, max_depth=3\u001b[0m\n",
      "\u001b[34m[16:00:36] src/tree/updater_prune.cc:74: tree pruning end, 1 roots, 10 extra nodes, 0 pruned nodes, max_depth=4\u001b[0m\n",
      "\u001b[34m[16:00:36] src/tree/updater_prune.cc:74: tree pruning end, 1 roots, 8 extra nodes, 0 pruned nodes, max_depth=3\u001b[0m\n",
      "\u001b[34m[16:00:36] src/tree/updater_prune.cc:74: tree pruning end, 1 roots, 8 extra nodes, 2 pruned nodes, max_depth=3\u001b[0m\n",
      "\u001b[34m[4]#011train-rmse:26.5452#011validation-rmse:26.9145\u001b[0m\n",
      "\u001b[34m[5]#011train-rmse:21.4406#011validation-rmse:21.9274\u001b[0m\n",
      "\u001b[34m[6]#011train-rmse:17.2843#011validation-rmse:17.8068\u001b[0m\n",
      "\u001b[34m[7]#011train-rmse:13.9662#011validation-rmse:14.4936\u001b[0m\n",
      "\u001b[34m[8]#011train-rmse:11.2784#011validation-rmse:11.869\u001b[0m\n",
      "\u001b[34m[9]#011train-rmse:9.13645#011validation-rmse:9.75494\u001b[0m\n",
      "\u001b[34m[10]#011train-rmse:7.41077#011validation-rmse:8.04366\u001b[0m\n",
      "\u001b[34m[11]#011train-rmse:6.05025#011validation-rmse:6.70102\u001b[0m\n",
      "\u001b[34m[16:00:36] src/tree/updater_prune.cc:74: tree pruning end, 1 roots, 10 extra nodes, 2 pruned nodes, max_depth=4\u001b[0m\n",
      "\u001b[34m[12]#011train-rmse:4.95392#011validation-rmse:5.60083\u001b[0m\n",
      "\u001b[34m[16:00:36] src/tree/updater_prune.cc:74: tree pruning end, 1 roots, 10 extra nodes, 2 pruned nodes, max_depth=3\u001b[0m\n",
      "\u001b[34m[13]#011train-rmse:4.06792#011validation-rmse:4.70516\u001b[0m\n",
      "\u001b[34m[16:00:36] src/tree/updater_prune.cc:74: tree pruning end, 1 roots, 10 extra nodes, 2 pruned nodes, max_depth=4\u001b[0m\n",
      "\u001b[34m[14]#011train-rmse:3.38388#011validation-rmse:4.03982\u001b[0m\n",
      "\u001b[34m[16:00:36] src/tree/updater_prune.cc:74: tree pruning end, 1 roots, 12 extra nodes, 4 pruned nodes, max_depth=4\u001b[0m\n",
      "\u001b[34m[15]#011train-rmse:2.8447#011validation-rmse:3.48775\u001b[0m\n",
      "\u001b[34m[16:00:36] src/tree/updater_prune.cc:74: tree pruning end, 1 roots, 16 extra nodes, 10 pruned nodes, max_depth=5\u001b[0m\n",
      "\u001b[34m[16]#011train-rmse:2.40206#011validation-rmse:3.04062\u001b[0m\n",
      "\u001b[34m[16:00:36] src/tree/updater_prune.cc:74: tree pruning end, 1 roots, 16 extra nodes, 2 pruned nodes, max_depth=4\u001b[0m\n",
      "\u001b[34m[17]#011train-rmse:2.06922#011validation-rmse:2.74159\u001b[0m\n",
      "\u001b[34m[16:00:36] src/tree/updater_prune.cc:74: tree pruning end, 1 roots, 20 extra nodes, 6 pruned nodes, max_depth=5\u001b[0m\n",
      "\u001b[34m[18]#011train-rmse:1.81386#011validation-rmse:2.48425\u001b[0m\n",
      "\u001b[34m[16:00:36] src/tree/updater_prune.cc:74: tree pruning end, 1 roots, 18 extra nodes, 12 pruned nodes, max_depth=5\u001b[0m\n",
      "\u001b[34m[19]#011train-rmse:1.61472#011validation-rmse:2.29811\u001b[0m\n",
      "\u001b[34m[16:00:36] src/tree/updater_prune.cc:74: tree pruning end, 1 roots, 18 extra nodes, 10 pruned nodes, max_depth=5\u001b[0m\n",
      "\u001b[34m[20]#011train-rmse:1.47611#011validation-rmse:2.21949\u001b[0m\n",
      "\u001b[34m[16:00:36] src/tree/updater_prune.cc:74: tree pruning end, 1 roots, 22 extra nodes, 4 pruned nodes, max_depth=5\u001b[0m\n",
      "\u001b[34m[21]#011train-rmse:1.3677#011validation-rmse:2.11716\u001b[0m\n",
      "\u001b[34m[16:00:36] src/tree/updater_prune.cc:74: tree pruning end, 1 roots, 18 extra nodes, 12 pruned nodes, max_depth=5\u001b[0m\n",
      "\u001b[34m[22]#011train-rmse:1.28524#011validation-rmse:2.06372\u001b[0m\n",
      "\u001b[34m[16:00:36] src/tree/updater_prune.cc:74: tree pruning end, 1 roots, 14 extra nodes, 12 pruned nodes, max_depth=5\u001b[0m\n",
      "\u001b[34m[23]#011train-rmse:1.2362#011validation-rmse:2.00165\u001b[0m\n",
      "\u001b[34m[16:00:36] src/tree/updater_prune.cc:74: tree pruning end, 1 roots, 8 extra nodes, 14 pruned nodes, max_depth=4\u001b[0m\n",
      "\u001b[34m[24]#011train-rmse:1.20545#011validation-rmse:1.98488\u001b[0m\n",
      "\u001b[34m[16:00:36] src/tree/updater_prune.cc:74: tree pruning end, 1 roots, 18 extra nodes, 10 pruned nodes, max_depth=5\u001b[0m\n",
      "\u001b[34m[25]#011train-rmse:1.1709#011validation-rmse:1.93274\u001b[0m\n",
      "\u001b[34m[16:00:36] src/tree/updater_prune.cc:74: tree pruning end, 1 roots, 14 extra nodes, 8 pruned nodes, max_depth=5\u001b[0m\n",
      "\u001b[34m[26]#011train-rmse:1.14106#011validation-rmse:1.91742\u001b[0m\n",
      "\u001b[34m[16:00:36] src/tree/updater_prune.cc:74: tree pruning end, 1 roots, 12 extra nodes, 0 pruned nodes, max_depth=5\u001b[0m\n",
      "\u001b[34m[27]#011train-rmse:1.12363#011validation-rmse:1.89389\u001b[0m\n",
      "\u001b[34m[16:00:36] src/tree/updater_prune.cc:74: tree pruning end, 1 roots, 22 extra nodes, 6 pruned nodes, max_depth=5\u001b[0m\n",
      "\u001b[34m[28]#011train-rmse:1.08896#011validation-rmse:1.87037\u001b[0m\n",
      "\u001b[34m[16:00:36] src/tree/updater_prune.cc:74: tree pruning end, 1 roots, 14 extra nodes, 6 pruned nodes, max_depth=4\u001b[0m\n",
      "\u001b[34m[29]#011train-rmse:1.07408#011validation-rmse:1.83772\u001b[0m\n",
      "\u001b[34m[16:00:36] src/tree/updater_prune.cc:74: tree pruning end, 1 roots, 18 extra nodes, 10 pruned nodes, max_depth=5\u001b[0m\n",
      "\u001b[34m[30]#011train-rmse:1.04961#011validation-rmse:1.82418\u001b[0m\n",
      "\u001b[34m[16:00:36] src/tree/updater_prune.cc:74: tree pruning end, 1 roots, 10 extra nodes, 6 pruned nodes, max_depth=5\u001b[0m\n",
      "\u001b[34m[31]#011train-rmse:1.0404#011validation-rmse:1.82041\u001b[0m\n",
      "\u001b[34m[16:00:36] src/tree/updater_prune.cc:74: tree pruning end, 1 roots, 8 extra nodes, 8 pruned nodes, max_depth=4\u001b[0m\n",
      "\u001b[34m[32]#011train-rmse:1.035#011validation-rmse:1.82396\u001b[0m\n",
      "\u001b[34m[16:00:36] src/tree/updater_prune.cc:74: tree pruning end, 1 roots, 6 extra nodes, 4 pruned nodes, max_depth=3\u001b[0m\n",
      "\u001b[34m[33]#011train-rmse:1.02908#011validation-rmse:1.81167\u001b[0m\n",
      "\u001b[34m[16:00:36] src/tree/updater_prune.cc:74: tree pruning end, 1 roots, 20 extra nodes, 10 pruned nodes, max_depth=5\u001b[0m\n",
      "\u001b[34m[34]#011train-rmse:1.00921#011validation-rmse:1.81005\u001b[0m\n",
      "\u001b[34m[16:00:36] src/tree/updater_prune.cc:74: tree pruning end, 1 roots, 0 extra nodes, 10 pruned nodes, max_depth=0\u001b[0m\n",
      "\u001b[34m[35]#011train-rmse:1.00847#011validation-rmse:1.80926\u001b[0m\n",
      "\u001b[34m[16:00:36] src/tree/updater_prune.cc:74: tree pruning end, 1 roots, 6 extra nodes, 6 pruned nodes, max_depth=3\u001b[0m\n",
      "\u001b[34m[36]#011train-rmse:1.0068#011validation-rmse:1.79271\u001b[0m\n",
      "\u001b[34m[16:00:36] src/tree/updater_prune.cc:74: tree pruning end, 1 roots, 10 extra nodes, 10 pruned nodes, max_depth=5\u001b[0m\n",
      "\u001b[34m[37]#011train-rmse:1.00284#011validation-rmse:1.77513\u001b[0m\n",
      "\u001b[34m[16:00:36] src/tree/updater_prune.cc:74: tree pruning end, 1 roots, 0 extra nodes, 12 pruned nodes, max_depth=0\u001b[0m\n",
      "\u001b[34m[38]#011train-rmse:1.00302#011validation-rmse:1.77532\u001b[0m\n",
      "\u001b[34m[16:00:36] src/tree/updater_prune.cc:74: tree pruning end, 1 roots, 6 extra nodes, 6 pruned nodes, max_depth=3\u001b[0m\n",
      "\u001b[34m[39]#011train-rmse:0.996489#011validation-rmse:1.7669\u001b[0m\n",
      "\u001b[34m[16:00:36] src/tree/updater_prune.cc:74: tree pruning end, 1 roots, 10 extra nodes, 4 pruned nodes, max_depth=5\u001b[0m\n",
      "\u001b[34m[40]#011train-rmse:0.99103#011validation-rmse:1.75751\u001b[0m\n",
      "\u001b[34m[16:00:36] src/tree/updater_prune.cc:74: tree pruning end, 1 roots, 0 extra nodes, 18 pruned nodes, max_depth=0\u001b[0m\n",
      "\u001b[34m[41]#011train-rmse:0.990745#011validation-rmse:1.7572\u001b[0m\n",
      "\u001b[34m[16:00:36] src/tree/updater_prune.cc:74: tree pruning end, 1 roots, 14 extra nodes, 10 pruned nodes, max_depth=5\u001b[0m\n",
      "\u001b[34m[42]#011train-rmse:0.984142#011validation-rmse:1.75184\u001b[0m\n",
      "\u001b[34m[16:00:36] src/tree/updater_prune.cc:74: tree pruning end, 1 roots, 10 extra nodes, 4 pruned nodes, max_depth=5\u001b[0m\n",
      "\u001b[34m[43]#011train-rmse:0.978111#011validation-rmse:1.74622\u001b[0m\n",
      "\u001b[34m[16:00:36] src/tree/updater_prune.cc:74: tree pruning end, 1 roots, 6 extra nodes, 14 pruned nodes, max_depth=3\u001b[0m\n",
      "\u001b[34m[44]#011train-rmse:0.975017#011validation-rmse:1.75872\u001b[0m\n",
      "\u001b[34m[16:00:36] src/tree/updater_prune.cc:74: tree pruning end, 1 roots, 0 extra nodes, 14 pruned nodes, max_depth=0\u001b[0m\n",
      "\u001b[34m[45]#011train-rmse:0.975314#011validation-rmse:1.7592\u001b[0m\n",
      "\u001b[34m[16:00:36] src/tree/updater_prune.cc:74: tree pruning end, 1 roots, 0 extra nodes, 14 pruned nodes, max_depth=0\u001b[0m\n",
      "\u001b[34m[46]#011train-rmse:0.975208#011validation-rmse:1.75904\u001b[0m\n",
      "\u001b[34m[16:00:36] src/tree/updater_prune.cc:74: tree pruning end, 1 roots, 14 extra nodes, 8 pruned nodes, max_depth=5\u001b[0m\n",
      "\u001b[34m[47]#011train-rmse:0.96388#011validation-rmse:1.7552\u001b[0m\n",
      "\u001b[34m[16:00:36] src/tree/updater_prune.cc:74: tree pruning end, 1 roots, 2 extra nodes, 12 pruned nodes, max_depth=1\u001b[0m\n",
      "\u001b[34m[48]#011train-rmse:0.962672#011validation-rmse:1.75904\u001b[0m\n",
      "\u001b[34m[16:00:36] src/tree/updater_prune.cc:74: tree pruning end, 1 roots, 16 extra nodes, 22 pruned nodes, max_depth=5\u001b[0m\n",
      "\u001b[34m[49]#011train-rmse:0.954487#011validation-rmse:1.77366\u001b[0m\n",
      "\u001b[34m[16:00:36] src/tree/updater_prune.cc:74: tree pruning end, 1 roots, 10 extra nodes, 16 pruned nodes, max_depth=5\u001b[0m\n",
      "\u001b[34m[50]#011train-rmse:0.948972#011validation-rmse:1.78049\u001b[0m\n",
      "\u001b[34m[16:00:36] src/tree/updater_prune.cc:74: tree pruning end, 1 roots, 4 extra nodes, 16 pruned nodes, max_depth=2\u001b[0m\n",
      "\u001b[34m[51]#011train-rmse:0.946789#011validation-rmse:1.78216\u001b[0m\n",
      "\u001b[34m[16:00:36] src/tree/updater_prune.cc:74: tree pruning end, 1 roots, 8 extra nodes, 6 pruned nodes, max_depth=4\u001b[0m\n",
      "\u001b[34m[52]#011train-rmse:0.941612#011validation-rmse:1.77059\u001b[0m\n",
      "\u001b[34m[16:00:36] src/tree/updater_prune.cc:74: tree pruning end, 1 roots, 12 extra nodes, 18 pruned nodes, max_depth=5\u001b[0m\n",
      "\u001b[34m[53]#011train-rmse:0.939066#011validation-rmse:1.76689\u001b[0m\n",
      "\u001b[34mStopping. Best iteration:\u001b[0m\n",
      "\u001b[34m[43]#011train-rmse:0.978111#011validation-rmse:1.74622\u001b[0m\n",
      "\n",
      "2022-02-24 16:00:58 Uploading - Uploading generated training model\n",
      "2022-02-24 16:00:58 Completed - Training job completed\n",
      "Training seconds: 49\n",
      "Billable seconds: 21\n",
      "Managed Spot Training savings: 57.1%\n"
     ]
    }
   ],
   "source": [
    "estimator.fit({'train':train_input,'validation':test_input})"
   ]
  },
  {
   "cell_type": "markdown",
   "id": "a8c908f2",
   "metadata": {},
   "source": [
    "[Deploy and test Lambda-ready Model Endpoint](https://youtu.be/LbeWBcXEW7s)\n",
    "\n",
    "## Deploy trained xgb model as Endpoints\n",
    "\n",
    "1. Environment\n",
    "\n",
    "    * When SageMaker - Serialization by User\n",
    "    * Outside SageMaker - Serialization by Endpoint\n",
    "    \n",
    "2. Method to invoke the endpoint\n",
    "    * **API - Single Prediction**\n",
    "    * s3 Bucket - Batch Prediction\n",
    "    \n",
    "3. Data type tested on method\n",
    "    * **API -JSON**\n",
    "    * s3 Bucket -CSV"
   ]
  },
  {
   "cell_type": "markdown",
   "id": "d3bf8d3a",
   "metadata": {},
   "source": [
    "To host a model through Amazon EC2 using Amazon Sagemaker, deploy the model that you trained in Create and Run a Training job by calling the **deploy method of the xgb_model estimator**.\n",
    "\n",
    "When you call the deploy method, few key things that you need to specify:\n",
    "    "
   ]
  },
  {
   "cell_type": "code",
   "execution_count": 19,
   "id": "8bc35cab",
   "metadata": {},
   "outputs": [
    {
     "name": "stdout",
     "output_type": "stream",
     "text": [
      "-------!"
     ]
    }
   ],
   "source": [
    "from sagemaker.serializers import CSVSerializer\n",
    "\n",
    "xgb_predictor = estimator.deploy(initial_instance_count=1,instance_type='ml.m4.xlarge',serializer=CSVSerializer())"
   ]
  },
  {
   "cell_type": "code",
   "execution_count": 20,
   "id": "5a6a9a97",
   "metadata": {},
   "outputs": [
    {
     "data": {
      "text/plain": [
       "'xgboost-2022-02-24-16-20-48-958'"
      ]
     },
     "execution_count": 20,
     "metadata": {},
     "output_type": "execute_result"
    }
   ],
   "source": [
    "xgb_predictor.endpoint_name"
   ]
  },
  {
   "cell_type": "markdown",
   "id": "b468702f",
   "metadata": {},
   "source": [
    "**Make prediction with the use of Endpoints**"
   ]
  },
  {
   "cell_type": "code",
   "execution_count": 21,
   "id": "64985ae3",
   "metadata": {},
   "outputs": [
    {
     "name": "stdout",
     "output_type": "stream",
     "text": [
      "[*********************100%***********************]  1 of 1 completed\n"
     ]
    },
    {
     "data": {
      "text/html": [
       "<div>\n",
       "<style scoped>\n",
       "    .dataframe tbody tr th:only-of-type {\n",
       "        vertical-align: middle;\n",
       "    }\n",
       "\n",
       "    .dataframe tbody tr th {\n",
       "        vertical-align: top;\n",
       "    }\n",
       "\n",
       "    .dataframe thead th {\n",
       "        text-align: right;\n",
       "    }\n",
       "</style>\n",
       "<table border=\"1\" class=\"dataframe\">\n",
       "  <thead>\n",
       "    <tr style=\"text-align: right;\">\n",
       "      <th></th>\n",
       "      <th>Date</th>\n",
       "      <th>Open</th>\n",
       "      <th>High</th>\n",
       "      <th>Low</th>\n",
       "      <th>Close</th>\n",
       "      <th>Adj Close</th>\n",
       "      <th>Volume</th>\n",
       "    </tr>\n",
       "  </thead>\n",
       "  <tbody>\n",
       "    <tr>\n",
       "      <th>0</th>\n",
       "      <td>2021-01-04</td>\n",
       "      <td>133.520004</td>\n",
       "      <td>133.610001</td>\n",
       "      <td>126.760002</td>\n",
       "      <td>129.410004</td>\n",
       "      <td>128.45343</td>\n",
       "      <td>143301900</td>\n",
       "    </tr>\n",
       "  </tbody>\n",
       "</table>\n",
       "</div>"
      ],
      "text/plain": [
       "        Date        Open        High         Low       Close  Adj Close  \\\n",
       "0 2021-01-04  133.520004  133.610001  126.760002  129.410004  128.45343   \n",
       "\n",
       "      Volume  \n",
       "0  143301900  "
      ]
     },
     "execution_count": 21,
     "metadata": {},
     "output_type": "execute_result"
    }
   ],
   "source": [
    "#initialize parameters\n",
    "start_date =datetime(2021,1,4)\n",
    "end_date =datetime(2021,1,5)\n",
    "\n",
    "# get the data\n",
    "df_data =yf.download('AAPL',start=start_date,end=end_date)\n",
    "\n",
    "df_data.reset_index(inplace=True)\n",
    "\n",
    "df_data"
   ]
  },
  {
   "cell_type": "code",
   "execution_count": 22,
   "id": "ae3057ca",
   "metadata": {},
   "outputs": [
    {
     "data": {
      "text/plain": [
       "array([[1.33520004e+02, 1.33610001e+02, 1.26760002e+02, 1.29410004e+02,\n",
       "        1.43301900e+08]])"
      ]
     },
     "execution_count": 22,
     "metadata": {},
     "output_type": "execute_result"
    }
   ],
   "source": [
    "df_data.drop(axis=1,columns=['Adj Close','Date'],inplace=True)\n",
    "# Takeout the last row\n",
    "data_features_array=df_data.values\n",
    "data_features_array"
   ]
  },
  {
   "cell_type": "markdown",
   "id": "a3e119cd",
   "metadata": {},
   "source": [
    "### Serialize data\n",
    "\n",
    "**Inference - Serialized Input by Sagemaker Function**\n",
    "\n",
    "This is within the Sagemaker"
   ]
  },
  {
   "cell_type": "code",
   "execution_count": 37,
   "id": "1c61f4bf",
   "metadata": {},
   "outputs": [
    {
     "data": {
      "text/plain": [
       "'131.989990234375'"
      ]
     },
     "execution_count": 37,
     "metadata": {},
     "output_type": "execute_result"
    }
   ],
   "source": [
    "# Make predictions\n",
    "# 'utf-8' changes bytes to strings\n",
    "Y_pred_Fcn = xgb_predictor.predict(data_features_array).decode('utf-8') # predict!\n",
    "Y_pred_Fcn"
   ]
  },
  {
   "cell_type": "markdown",
   "id": "01b98361",
   "metadata": {},
   "source": [
    "**Inference - Serialized Input by built-in function (Lambda function friendly)**"
   ]
  },
  {
   "cell_type": "code",
   "execution_count": 38,
   "id": "f88d289d",
   "metadata": {},
   "outputs": [
    {
     "data": {
      "text/plain": [
       "'131.989990234375'"
      ]
     },
     "execution_count": 38,
     "metadata": {},
     "output_type": "execute_result"
    }
   ],
   "source": [
    "Input = data_features_array.tolist()*3\n",
    "Serialized_Input=','.join(map(str,Input[0]))#take the first element int list of list and convert the to string\n",
    "\n",
    "Y_pred=xgb_predictor.predict(Serialized_Input).decode('utf-8')\n",
    "Y_pred"
   ]
  },
  {
   "cell_type": "code",
   "execution_count": 35,
   "id": "07259038",
   "metadata": {},
   "outputs": [
    {
     "data": {
      "text/plain": [
       "[133.52000427246094,\n",
       " 133.61000061035156,\n",
       " 126.76000213623047,\n",
       " 129.41000366210938,\n",
       " 143301900.0]"
      ]
     },
     "execution_count": 35,
     "metadata": {},
     "output_type": "execute_result"
    }
   ],
   "source": [
    "(data_features_array.tolist()*3)[0]"
   ]
  },
  {
   "cell_type": "markdown",
   "id": "8f3d2510",
   "metadata": {},
   "source": [
    "## 5. Lamdba Function handler\n",
    "\n",
    "Reference:\n",
    "\n",
    "https://docs.aws.amazon.com/lambda/latest/dg/python-handler.html \n",
    "\n",
    "https://docs.aws.amazon.com/lambda/latest/dg/python-context.html"
   ]
  },
  {
   "cell_type": "markdown",
   "id": "5d94af32",
   "metadata": {},
   "source": [
    "### Inference- Lambda function(Base)"
   ]
  },
  {
   "cell_type": "code",
   "execution_count": 43,
   "id": "6e98c8ef",
   "metadata": {},
   "outputs": [
    {
     "data": {
      "text/plain": [
       "{'data': [[133.52000427246094,\n",
       "   133.61000061035156,\n",
       "   126.76000213623047,\n",
       "   129.41000366210938,\n",
       "   143301900.0],\n",
       "  [133.52000427246094,\n",
       "   133.61000061035156,\n",
       "   126.76000213623047,\n",
       "   129.41000366210938,\n",
       "   143301900.0],\n",
       "  [133.52000427246094,\n",
       "   133.61000061035156,\n",
       "   126.76000213623047,\n",
       "   129.41000366210938,\n",
       "   143301900.0]]}"
      ]
     },
     "execution_count": 43,
     "metadata": {},
     "output_type": "execute_result"
    }
   ],
   "source": [
    "{'data':\n",
    "    data_features_array.tolist()*3\n",
    "            \n",
    "             }"
   ]
  },
  {
   "cell_type": "code",
   "execution_count": null,
   "id": "c59cee34",
   "metadata": {},
   "outputs": [],
   "source": []
  },
  {
   "cell_type": "code",
   "execution_count": 42,
   "id": "d1c77e9b",
   "metadata": {},
   "outputs": [
    {
     "data": {
      "text/plain": [
       "['131.989990234375', '131.989990234375', '131.989990234375']"
      ]
     },
     "execution_count": 42,
     "metadata": {},
     "output_type": "execute_result"
    }
   ],
   "source": [
    "import boto3\n",
    "\n",
    "ENDPOINT_NAME = 'xgboost-2022-02-24-16-20-48-958'\n",
    "\n",
    "# connect to the sagemaker runtime\n",
    "runtime = boto3.client('runtime.sagemaker')\n",
    "\n",
    "# define lambda handler function\n",
    "\n",
    "def lambda_handler(event,context):\n",
    "    inputs = event['data']\n",
    "    \n",
    "    # in case you are being provided list of list, then \n",
    "    # Use for loop to provide multiple inference\n",
    "    result =[]\n",
    "    for input in inputs:\n",
    "        # serialize input and passit on to our sagemaker\n",
    "        serialized_input=','.join(map(str,input))\n",
    "    \n",
    "        response = runtime.invoke_endpoint(EndpointName=ENDPOINT_NAME,\n",
    "                                      ContentType='text/csv',\n",
    "                                      Body=serialized_input)\n",
    "    \n",
    "        result.append(response['Body'].read().decode() )# decode byte to string type\n",
    "    return result\n",
    "\n",
    "Input_json = {'data':\n",
    "    data_features_array.tolist()*3\n",
    "            \n",
    "             }\n",
    "#context, no information passed, because it is information from the runtime.\n",
    "result = lambda_handler(Input_json,__)\n",
    "result"
   ]
  },
  {
   "cell_type": "markdown",
   "id": "1346160b",
   "metadata": {},
   "source": [
    "Next Set up the Lambda and then copy and paste it to lambda functions in AWS Lambda console.\n",
    "\n",
    "[Create Lambda function to invoke Endpoint](https://youtu.be/vvjcGWnb0Os)\n",
    "\n",
    "Give a role and policy to the lambda function to accept the sagemaker endpoints.\n",
    "\n",
    "Under IAM Role, See myFunction... role , attach a policy AmazonSagemakerFullAccess to Lambda function"
   ]
  },
  {
   "cell_type": "code",
   "execution_count": 44,
   "id": "dd4a2fac",
   "metadata": {},
   "outputs": [
    {
     "data": {
      "text/plain": [
       "{'data': [[133.52000427246094,\n",
       "   133.61000061035156,\n",
       "   126.76000213623047,\n",
       "   129.41000366210938,\n",
       "   143301900.0],\n",
       "  [133.52000427246094,\n",
       "   133.61000061035156,\n",
       "   126.76000213623047,\n",
       "   129.41000366210938,\n",
       "   143301900.0],\n",
       "  [133.52000427246094,\n",
       "   133.61000061035156,\n",
       "   126.76000213623047,\n",
       "   129.41000366210938,\n",
       "   143301900.0]]}"
      ]
     },
     "execution_count": 44,
     "metadata": {},
     "output_type": "execute_result"
    }
   ],
   "source": [
    "# How it is set in Lambda test event\n",
    "\n",
    "{\n",
    "    \"data\": [\n",
    "        [133.52000427246094,\n",
    "   133.61000061035156,\n",
    "   126.76000213623047,\n",
    "   129.41000366210938,\n",
    "   143301900.0],\n",
    "  [133.52000427246094,\n",
    "   133.61000061035156,\n",
    "   126.76000213623047,\n",
    "   129.41000366210938,\n",
    "   143301900.0],\n",
    "  [133.52000427246094,\n",
    "   133.61000061035156,\n",
    "   126.76000213623047,\n",
    "   129.41000366210938,\n",
    "   143301900.0]\n",
    "   ]\n",
    "    \n",
    "}"
   ]
  },
  {
   "cell_type": "markdown",
   "id": "e5213560",
   "metadata": {},
   "source": [
    "## Send results via email\n",
    "\n",
    "[Publish response in email with SNS and Lambda](https://youtu.be/i9dmpj7X-6U)\n",
    "\n",
    "Using Amazon SNS we are Using Application-to-person(A2P):\n",
    "\n",
    "**Application-to-person (A2P)**\n",
    "\n",
    "In A2P, Amazon SNS lets you send push notifications to mobile apps, text messages to mobile phone numbers, and plain-text emails to email addresses. You can fan out messages with a topic, or publish to mobile endpoints directly\n",
    "\n",
    "In this example, we are sending emails to someone/people.\n",
    "\n",
    "* Provide Topic ARN to Lambda push function. e.g arn:aws:sns:eu-central-1:######:MyTopic\n",
    "\n",
    "[SNS Client publish](https://boto3.amazonaws.com/v1/documentation/api/latest/reference/services/sns.html)"
   ]
  },
  {
   "cell_type": "code",
   "execution_count": 45,
   "id": "56cab2d0",
   "metadata": {},
   "outputs": [],
   "source": [
    "import boto3\n",
    "\n",
    "ENDPOINT_NAME = 'xgboost-2022-02-24-16-20-48-958'\n",
    "\n",
    "# connect to the sagemaker runtime\n",
    "runtime = boto3.client('runtime.sagemaker')\n",
    "email_client = boto3.client('sns')#Initial the SNS service\n",
    "# define lambda handler function\n",
    "\n",
    "def lambda_handler(event,context):\n",
    "    inputs = event['data']\n",
    "    \n",
    "    # in case you are being provided list of list, then \n",
    "    # Use for loop to provide multiple inference\n",
    "    result =[]\n",
    "    for input in inputs:\n",
    "        # serialize input and passit on to our sagemaker\n",
    "        serialized_input=','.join(map(str,input))\n",
    "    \n",
    "        response = runtime.invoke_endpoint(EndpointName=ENDPOINT_NAME,\n",
    "                                      ContentType='text/csv',\n",
    "                                      Body=serialized_input)\n",
    "    \n",
    "        result.append(response['Body'].read().decode() )# decode byte to string type\n",
    "    \n",
    "    \n",
    "    response_sns = email_client.publish(\n",
    "        TopicArn='arn:aws:sns:eu-central-1:####:MyTopic',\n",
    "        Message='Prediction is '+str(result),\n",
    "        Subject='Apple Stock Price Daily Predictions')\n",
    "    \n",
    "    return result"
   ]
  },
  {
   "cell_type": "markdown",
   "id": "93914437",
   "metadata": {},
   "source": [
    "I Encountered error with sns with lambda due to TopicArn.\n",
    "\n",
    "\n",
    "{\n",
    "  \"errorMessage\": \"An error occurred (InvalidParameter) when calling the Publish operation: Invalid parameter: TopicArn\",\n",
    "  \"errorType\": \"InvalidParameterException\",\n",
    "  \"requestId\": \"######\",\n",
    "  \"stackTrace\": [\n",
    "    \"  File \\\"/var/task/lambda_function.py\\\", line 27, in lambda_handler\\n    response_sns = email_client.publish(\\n\",\n",
    "    \"  File \\\"/var/runtime/botocore/client.py\\\", line 386, in _api_call\\n    return self._make_api_call(operation_name, kwargs)\\n\",\n",
    "    \"  File \\\"/var/runtime/botocore/client.py\\\", line 705, in _make_api_call\\n    raise error_class(parsed_response, operation_name)\\n\"\n",
    "  ]\n",
    "}\n",
    "\n",
    "may be because of different regions,  us-east-1 and eu-central-1. Thats a guess."
   ]
  },
  {
   "cell_type": "markdown",
   "id": "2d39673c",
   "metadata": {},
   "source": [
    "## Build, deploy and test an API Gateway endpoint for the REST API\n",
    "\n",
    "Refrence: [Build and deploy a REST API with API Gateway](https://youtu.be/D4v_wTvn51I)\n",
    "\n",
    "Using Amazon API Gateway."
   ]
  },
  {
   "cell_type": "markdown",
   "id": "fa26e541",
   "metadata": {},
   "source": [
    " Invoke URL: https://####.execute-api.us-west-2.amazonaws.com/xgbmodel"
   ]
  },
  {
   "cell_type": "code",
   "execution_count": 49,
   "id": "30666b00",
   "metadata": {},
   "outputs": [],
   "source": [
    "import requests\n",
    "\n",
    "# defining the api -endpoint\n",
    "API_ENDPOINT=\"https://4vi30eq07i.execute-api.us-west-2.amazonaws.com/xgbmodel\"\n",
    "# data to be sent to the api\n",
    "json = {\"data\":data_features_array.tolist()*3}\n",
    "\n",
    "# sending post request and saving response as response object\n",
    "r = requests.post(url=API_ENDPOINT,json=json)"
   ]
  },
  {
   "cell_type": "markdown",
   "id": "3ebccc92",
   "metadata": {},
   "source": [
    "With the lambda integration the Lambda function output function is returned as a 200 OK response.\n",
    "\n",
    "HTTP status codes reference: https://aws.amazon.com/blogs/compute/error-handling-patterns-in-amazon-api-gateway-and-aws-lambda/"
   ]
  },
  {
   "cell_type": "code",
   "execution_count": 50,
   "id": "f3cd251f",
   "metadata": {},
   "outputs": [
    {
     "name": "stdout",
     "output_type": "stream",
     "text": [
      "Status Code:200,Response: ['131.989990234375', '131.989990234375', '131.989990234375']\n"
     ]
    }
   ],
   "source": [
    "print(f\"Status Code:{r.status_code},Response: {r.json()}\")"
   ]
  },
  {
   "cell_type": "markdown",
   "id": "145ba40b",
   "metadata": {},
   "source": [
    "# Success"
   ]
  },
  {
   "cell_type": "markdown",
   "id": "fa23f80d",
   "metadata": {},
   "source": [
    "## Close and Terminate"
   ]
  },
  {
   "cell_type": "code",
   "execution_count": 51,
   "id": "a74e2f3c",
   "metadata": {},
   "outputs": [
    {
     "name": "stderr",
     "output_type": "stream",
     "text": [
      "The endpoint attribute has been renamed in sagemaker>=2.\n",
      "See: https://sagemaker.readthedocs.io/en/stable/v2.html for details.\n"
     ]
    }
   ],
   "source": [
    "sagemaker.Session().delete_endpoint(xgb_predictor.endpoint)\n",
    "\n",
    "#or\n",
    "#xgb_predictor.delete_endpoint(delete_endpoint_config=True)"
   ]
  },
  {
   "cell_type": "code",
   "execution_count": 52,
   "id": "4237b5d4",
   "metadata": {},
   "outputs": [
    {
     "data": {
      "text/plain": [
       "[{'ResponseMetadata': {'RequestId': 'PPM6Z9K0R8BFGA1H',\n",
       "   'HostId': 'RYii5B4fXjjXsCElSdcIFBHW1RI4BFzHN+/FiKxGYl4b7VFxZVcBkzL0WEhjXfOtKgCLlv12YfQ=',\n",
       "   'HTTPStatusCode': 200,\n",
       "   'HTTPHeaders': {'x-amz-id-2': 'RYii5B4fXjjXsCElSdcIFBHW1RI4BFzHN+/FiKxGYl4b7VFxZVcBkzL0WEhjXfOtKgCLlv12YfQ=',\n",
       "    'x-amz-request-id': 'PPM6Z9K0R8BFGA1H',\n",
       "    'date': 'Thu, 24 Feb 2022 19:32:35 GMT',\n",
       "    'content-type': 'application/xml',\n",
       "    'transfer-encoding': 'chunked',\n",
       "    'server': 'AmazonS3',\n",
       "    'connection': 'close'},\n",
       "   'RetryAttempts': 0},\n",
       "  'Deleted': [{'Key': 'xgboost-as-a-built-in-algo/output/output/xgboost-2022-02-24-15-56-33-915/output/model.tar.gz'},\n",
       "   {'Key': 'xgboost-as-a-built-in-algo/output/output/xgboost-2022-02-24-15-56-33-915/profiler-output/framework/training_job_end.ts'},\n",
       "   {'Key': 'xgboost-as-a-built-in-algo/output/output/xgboost-2022-02-24-15-56-33-915/profiler-output/system/training_job_end.ts'},\n",
       "   {'Key': 'xgboost-as-a-built-in-algo/output/output/xgboost-2022-02-24-15-45-30-310/rule-output/ProfilerReport-1645717530/profiler-output/profiler-reports/OverallSystemUsage.json'},\n",
       "   {'Key': 'xgboost-as-a-built-in-algo/output/output/xgboost-2022-02-24-15-45-30-310/rule-output/ProfilerReport-1645717530/profiler-output/profiler-report.ipynb'},\n",
       "   {'Key': 'xgboost-as-a-built-in-algo/output/output/xgboost-2022-02-24-15-45-30-310/profiler-output/system/incremental/2022022415/1645717680.algo-1.json'},\n",
       "   {'Key': 'xgboost-as-a-built-in-algo/train/train.csv'},\n",
       "   {'Key': 'xgboost-as-a-built-in-algo/output/output/xgboost-2022-02-24-15-45-30-310/rule-output/ProfilerReport-1645717530/profiler-output/profiler-report.html'},\n",
       "   {'Key': 'xgboost-as-a-built-in-algo/output/output/xgboost-2022-02-24-15-45-30-310/rule-output/ProfilerReport-1645717530/profiler-output/profiler-reports/LowGPUUtilization.json'},\n",
       "   {'Key': 'xgboost-as-a-built-in-algo/output/output/xgboost-2022-02-24-15-45-30-310/rule-output/ProfilerReport-1645717530/profiler-output/profiler-reports/BatchSize.json'},\n",
       "   {'Key': 'xgboost-as-a-built-in-algo/output/output/xgboost-2022-02-24-15-45-30-310/rule-output/ProfilerReport-1645717530/profiler-output/profiler-reports/Dataloader.json'},\n",
       "   {'Key': 'xgboost-as-a-built-in-algo/test/test.csv'},\n",
       "   {'Key': 'xgboost-as-a-built-in-algo/output/output/xgboost-2022-02-24-15-45-30-310/rule-output/ProfilerReport-1645717530/profiler-output/profiler-reports/GPUMemoryIncrease.json'},\n",
       "   {'Key': 'xgboost-as-a-built-in-algo/output/output/xgboost-2022-02-24-15-45-30-310/rule-output/ProfilerReport-1645717530/profiler-output/profiler-reports/IOBottleneck.json'},\n",
       "   {'Key': 'xgboost-as-a-built-in-algo/output/output/xgboost-2022-02-24-15-45-30-310/rule-output/ProfilerReport-1645717530/profiler-output/profiler-reports/MaxInitializationTime.json'},\n",
       "   {'Key': 'xgboost-as-a-built-in-algo/output/output/xgboost-2022-02-24-15-56-33-915/profiler-output/system/incremental/2022022416/1645718400.algo-1.json'},\n",
       "   {'Key': 'xgboost-as-a-built-in-algo/output/output/xgboost-2022-02-24-15-45-30-310/rule-output/ProfilerReport-1645717530/profiler-output/profiler-reports/CPUBottleneck.json'},\n",
       "   {'Key': 'xgboost-as-a-built-in-algo/output/output/xgboost-2022-02-24-15-45-30-310/rule-output/ProfilerReport-1645717530/profiler-output/profiler-reports/LoadBalancing.json'},\n",
       "   {'Key': 'xgboost-as-a-built-in-algo/output/output/xgboost-2022-02-24-15-45-30-310/profiler-output/system/incremental/2022022415/1645717740.algo-1.json'},\n",
       "   {'Key': 'xgboost-as-a-built-in-algo/output/output/xgboost-2022-02-24-15-45-30-310/rule-output/ProfilerReport-1645717530/profiler-output/profiler-reports/OverallFrameworkMetrics.json'},\n",
       "   {'Key': 'xgboost-as-a-built-in-algo/output/output/xgboost-2022-02-24-15-45-30-310/rule-output/ProfilerReport-1645717530/profiler-output/profiler-reports/StepOutlier.json'}]}]"
      ]
     },
     "execution_count": 52,
     "metadata": {},
     "output_type": "execute_result"
    }
   ],
   "source": [
    "bucket_to_delete = boto3.resource('s3').Bucket(bucket_name)\n",
    "bucket_to_delete.objects.all().delete()"
   ]
  },
  {
   "cell_type": "markdown",
   "id": "0c20783b",
   "metadata": {},
   "source": [
    "**Delete your SageMaker Notebook:** Stop and delete your SageMaker Notebook.\n",
    "\n",
    "1. Open the SageMaker console.\n",
    "2. Under **Notebooks**, choose **Notebook instances**.\n",
    "3. Choose the notebook instance that you created for this tutorial, then choose **Actions, Stop**. The notebook instance takes up to several minutes to stop. When **Status** changes to **Stopped**, move on to the next step.\n",
    "4. Choose **Actions,** then **Delete**.\n",
    "5. Choose **Delete**.**Delete your SageMaker Notebook:** Stop and delete your SageMaker Notebook.\n",
    "\n",
    "1. Open the SageMaker console.\n",
    "2. Under **Notebooks**, choose **Notebook instances**.\n",
    "3. Choose the notebook instance that you created for this tutorial, then choose **Actions, Stop**. The notebook instance takes up to several minutes to stop. When **Status** changes to **Stopped**, move on to the next step.\n",
    "4. Choose **Actions,** then **Delete**.\n",
    "5. Choose **Delete**.\n",
    "6. Delete API Gateway by clicking on API name-> Action-> Delete.\n",
    "7. Delete Amazon SNS same Procedure as API Gateway, SNS is also Always free.\n",
    "8. Delete Amazon Lambda same Procedure as API Gateway, but this is an always free service in AWS Free Tier.\n",
    "\n",
    "Reference [Save Cost](https://youtu.be/nMBSDEYO_BI)"
   ]
  }
 ],
 "metadata": {
  "kernelspec": {
   "display_name": "conda_python3",
   "language": "python",
   "name": "conda_python3"
  },
  "language_info": {
   "codemirror_mode": {
    "name": "ipython",
    "version": 3
   },
   "file_extension": ".py",
   "mimetype": "text/x-python",
   "name": "python",
   "nbconvert_exporter": "python",
   "pygments_lexer": "ipython3",
   "version": "3.6.13"
  }
 },
 "nbformat": 4,
 "nbformat_minor": 5
}
