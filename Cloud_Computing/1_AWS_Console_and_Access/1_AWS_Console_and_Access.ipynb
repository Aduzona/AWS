{
 "cells": [
  {
   "cell_type": "markdown",
   "metadata": {},
   "source": [
    "# AWS Console & Access"
   ]
  },
  {
   "cell_type": "markdown",
   "metadata": {},
   "source": [
    "1. [AWS Console and Access](https://www.youtube.com/watch?v=zL6F2pekeZc)\n",
    "2. [Lesson Outline](https://www.youtube.com/watch?v=F8UZcbNvvPY)\n",
    "3. [Big Picture](https://www.youtube.com/watch?v=OjDrPIlG8Oo)\n",
    "4. [Signing Up With AWS](https://www.youtube.com/watch?v=mrrNScjoBSg)\n",
    "5. [Multi-Factor Authentication](https://www.youtube.com/watch?v=-TYnblmVMPA)\n",
    "6. [Edge Case: MFA and IAM](https://www.youtube.com/watch?v=10TMU7pDJ1c)\n",
    "7. [Securing Root User With MFA](https://www.youtube.com/watch?v=lIRttRwhVQ4)\n",
    "8. [AWS Console](https://www.youtube.com/watch?v=dPMnCNNwy7U)\n",
    "\n",
    "The console is the graphical user interface (GUI) to access and configure AWS services. The AWS console supports both search and navigation. If you have the URL for a service, you can also go directly to that URL (e.g. a bookmark).\n",
    "\n",
    "The console has built-in help functionality, including wizards and templates to rapidly configure services with default settings.\n",
    "\n",
    "9.  Quiz: AWS Console\n",
    "\n",
    "Name two ways to navigate to an AWS service console:\n",
    "* Click on the Service dropdown menu\n",
    "* Use the text field with a magnifying glass to search for a service.\n",
    "\n",
    "10. [IAM](https://www.youtube.com/watch?v=rYnYiIWJbRk)\n",
    "11. [IAM Users](https://www.youtube.com/watch?v=W7VLylV00eY)\n",
    "\n",
    "Which permissions should you grant a user who needs access to read from an S3 bucket but does not need to use any other service?\n",
    "* Always grant the minimum permisions required.\n",
    "\n",
    "\n",
    "12.  [IAM Policies](https://www.youtube.com/watch?v=22c_2EVTs2Y)\n",
    "13.  Exercise: Creating A Manager IAM User With Built-in Policies\n",
    "\n",
    "In this exercise, you will create an IAM user for a manager, and apply built-in IAM policies.\n",
    "\n",
    "**Instructions**\n",
    "\n",
    "* Create an IAM user\n",
    "* Name the user \"manager\"\n",
    "* Provide this user with:\n",
    "    * IAM Full Access permissions\n",
    "    * S3 Full Access permissions\n",
    "    * EC2 Full Access permissions\n",
    "\n",
    "14.   [Creating A Manager IAM User With Built-in Policies](https://www.youtube.com/watch?v=YXz_SUAV4Bo)\n",
    "15.   [Simple Storage Service (S3)](https://www.youtube.com/watch?v=HYtT5QnWFZg)\n",
    "\n",
    "IAM permissions are necessary to access S3. Never set a bucket to Public - always use IAM permission to control access.\n",
    "\n",
    "If a bucket needs to be publicly available to the internet, the best practice is to put a Content Delivery Network (CloudFront) in front of it and make that public, while the bucket itself stays private.\n",
    "\n",
    "16. [Solution_Creating S3 Bucket And Uploading Content](https://www.youtube.com/watch?v=kvKzVwBSouM)\n",
    "17. [Solution_IAM Inline Policy\n",
    "](https://www.youtube.com/watch?v=CHCj62QaM8c)\n",
    "\n",
    "18. Quiz: Read-Only IAM Policy\n",
    "    \n",
    "* IAM is the Identity and Access Management service, which provides the ability to create Users and Roles while restricting access to AWS resources via Policies.\n",
    "\n",
    "* GetObject and ListBucket do not modify any resources, so they only require permission to read.\n",
    "\n",
    "19. [Lesson Conclusion](https://www.youtube.com/watch?time_continue=21&v=v0Po1N_tvM0&feature=emb_logo)"
   ]
  },
  {
   "cell_type": "code",
   "execution_count": null,
   "metadata": {},
   "outputs": [],
   "source": []
  }
 ],
 "metadata": {
  "language_info": {
   "name": "python"
  },
  "orig_nbformat": 4
 },
 "nbformat": 4,
 "nbformat_minor": 2
}
