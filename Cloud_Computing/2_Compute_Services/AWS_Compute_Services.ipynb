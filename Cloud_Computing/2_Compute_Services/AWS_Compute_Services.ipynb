{
 "cells": [
  {
   "cell_type": "markdown",
   "metadata": {},
   "source": [
    "# AWS Compute Services\n",
    "\n",
    "1. [Compute Services](https://www.youtube.com/watch?v=dF0WdcMEUdI)\n",
    "EC2: Elastic Cloud Compute\n",
    "\n",
    "2. [Lesson Outline](https://www.youtube.com/watch?v=0L6xg0ifJpI)\n",
    "3. [Big Picture](https://www.youtube.com/watch?v=N3DpumWU_cw)\n",
    "4. [Launching An EC2 Instance](https://www.youtube.com/watch?time_continue=48&v=WxigbPUJCd0&feature=emb_logo)\n",
    "5. [Quiz: EC2 Instances](https://www.youtube.com/watch?v=esl59F-GY2M)\n",
    "6. [Security Group](https://www.youtube.com/watch?v=zn-TVaoy9KE)\n",
    "   Security groups act as virtual firewalls to control network traffic to and from resources.\n",
    "\n",
    "7. [Init Script](https://www.youtube.com/watch?v=E3J73eQqopo)\n",
    "\n",
    "**Quiz:Init Script**\n",
    "\n",
    "* true about init scripts?\n",
    "   *  Automatically install and configure software\n",
    "   *  Launch the first time an instance boosts.\n",
    "   *  Can be launched on every reboot-if so configured.\n",
    "\n",
    "* Where in the EC2 Launch Wizard do we add an init script?\n",
    "  * User Data section\n",
    "* What is the default behavior for an init script configuration?\n",
    "  * An init script only runs the first time an instance boots\n",
    "8.  [Elastic IP](https://www.youtube.com/watch?v=P4c5bS6jpBw)\n",
    "   \n",
    "EC2 instances' public IP addresses are dynamic and can change every time the instances restart. Elastic IP ensures that the instance's IP never changes.\n",
    "9.  [IAM Role](https://www.youtube.com/watch?v=8s6W9YfgjuA)\n",
    "\n",
    "IAM Role is more secured than IAM User. IAM roles do not have credentials. IAM roles can be assumed by other entities, such as IAM users or AWS services (e.g. EC2).\n",
    "A role is more secure than the long-lived credentials of an IAM user because when the role is assumed it provides temporary security credentials that expire and renew every 15 minutes\n",
    "\n",
    "10. [Overriding NGINX Defaults](https://www.youtube.com/watch?v=a-H0k8iHf4c)\n",
    "\n",
    "What configuration is optimal for an init script to fetch data from an S3 bucket?\n",
    "* An IAM role is the optimal way to access resources. Define an IAM policy and attach it to the IAM role.\n",
    "\n",
    "11. [Edge Cases](https://www.youtube.com/watch?v=qsjV_H3k_Xc)\n",
    "\n",
    "**When Is EC2 Sub-Optimal?**\n",
    "\n",
    "EC2 resources (memory, CPU) are configured by instance types.\n",
    "\n",
    "If a process is short-lived or does not need to be running constantly, and its footprint is much smaller than the EC2 instance resources. It might be better to use serverless functions rather than EC2, as a serverless approach will take fewer resources and is designed for short-lived processes.\n",
    "\n",
    "Sometimes running a virtual server for a very small task can be overkill. This is where serverless computing might be the better option.\n",
    "\n",
    "12. [Lesson Recap](https://www.youtube.com/watch?v=cACOi-tq6Bo)"
   ]
  },
  {
   "cell_type": "code",
   "execution_count": null,
   "metadata": {},
   "outputs": [],
   "source": []
  }
 ],
 "metadata": {
  "language_info": {
   "name": "python"
  },
  "orig_nbformat": 4
 },
 "nbformat": 4,
 "nbformat_minor": 2
}
